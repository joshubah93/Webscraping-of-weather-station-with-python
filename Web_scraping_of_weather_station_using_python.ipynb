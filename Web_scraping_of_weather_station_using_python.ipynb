{
 "cells": [
  {
   "cell_type": "markdown",
   "metadata": {},
   "source": [
    "### In this project we are going to scrape National Weather Service’s website using BeautifulSoup. The website contains up-to-date weather forecasts for every location in the USA.\n",
    "#### The follow work flow will be used:\n",
    "##### Request the content (source code) of a specific URL from the server\n",
    "##### Download the content that is returned\n",
    "##### Identify the elements of the page that are part of the table we want\n",
    "##### Extract and (if necessary) reformat those elements into a dataset we can analyze or use in whatever way we require."
   ]
  },
  {
   "cell_type": "code",
   "execution_count": 7,
   "metadata": {},
   "outputs": [
    {
     "name": "stdout",
     "output_type": "stream",
     "text": [
      "Requirement already satisfied: beautifulsoup4 in c:\\users\\chuka\\onedrive\\documents\\anaconda2\\lib\\site-packages (4.11.1)\n",
      "Requirement already satisfied: soupsieve>1.2 in c:\\users\\chuka\\onedrive\\documents\\anaconda2\\lib\\site-packages (from beautifulsoup4) (2.3.1)\n"
     ]
    }
   ],
   "source": [
    "#first we are going to install the beautifulsoup library\n",
    "!pip install beautifulsoup4"
   ]
  },
  {
   "cell_type": "code",
   "execution_count": 10,
   "metadata": {},
   "outputs": [
    {
     "name": "stdout",
     "output_type": "stream",
     "text": [
      "<div class=\"tombstone-container\">\n",
      " <p class=\"period-name\">\n",
      "  Today\n",
      "  <br/>\n",
      "  <br/>\n",
      " </p>\n",
      " <p>\n",
      "  <img alt=\"Today: Rain.  High near 57. Southeast wind 9 to 14 mph becoming light and variable  in the afternoon.  Chance of precipitation is 80%. New precipitation amounts between a quarter and half of an inch possible. \" class=\"forecast-icon\" src=\"newimages/medium/ra80.png\" title=\"Today: Rain.  High near 57. Southeast wind 9 to 14 mph becoming light and variable  in the afternoon.  Chance of precipitation is 80%. New precipitation amounts between a quarter and half of an inch possible. \"/>\n",
      " </p>\n",
      " <p class=\"short-desc\">\n",
      "  Rain\n",
      " </p>\n",
      " <p class=\"temp temp-high\">\n",
      "  High: 57 °F\n",
      " </p>\n",
      "</div>\n"
     ]
    }
   ],
   "source": [
    "#Download the web page containing the forecast.\n",
    "#Create a BeautifulSoup class to parse the page.\n",
    "#Find the div with id seven-day-forecast, and assign to seven_day\n",
    "#Inside seven_day, find each individual forecast item.\n",
    "#Extract and print the first forecast item.\n",
    "\n",
    "from bs4 import BeautifulSoup\n",
    "import requests\n",
    "page = requests.get(\"https://forecast.weather.gov/MapClick.php?lat=37.7772&lon=-122.4168\")\n",
    "soup = BeautifulSoup(page.content, 'html.parser')\n",
    "seven_day = soup.find(id=\"seven-day-forecast\")\n",
    "forecast_items = seven_day.find_all(class_=\"tombstone-container\")\n",
    "tonight = forecast_items[0]\n",
    "print(tonight.prettify())"
   ]
  },
  {
   "cell_type": "code",
   "execution_count": 11,
   "metadata": {},
   "outputs": [
    {
     "data": {
      "text/plain": [
       "<Response [200]>"
      ]
     },
     "execution_count": 11,
     "metadata": {},
     "output_type": "execute_result"
    }
   ],
   "source": [
    "page"
   ]
  },
  {
   "cell_type": "code",
   "execution_count": null,
   "metadata": {},
   "outputs": [],
   "source": [
    "#A response of 200 means that the page downloaded successfully. "
   ]
  },
  {
   "cell_type": "code",
   "execution_count": 13,
   "metadata": {},
   "outputs": [
    {
     "name": "stdout",
     "output_type": "stream",
     "text": [
      "Today\n",
      "Rain\n",
      "High: 57 °F\n"
     ]
    }
   ],
   "source": [
    "#Extracting information from the page\n",
    "\n",
    "short_desc = tonight.find(class_=\"short-desc\").get_text()\n",
    "temp = tonight.find(class_=\"temp\").get_text()\n",
    "print(period)\n",
    "print(short_desc)\n",
    "print(temp)"
   ]
  },
  {
   "cell_type": "code",
   "execution_count": null,
   "metadata": {},
   "outputs": [],
   "source": []
  },
  {
   "cell_type": "code",
   "execution_count": 14,
   "metadata": {},
   "outputs": [
    {
     "name": "stdout",
     "output_type": "stream",
     "text": [
      "Today: Rain.  High near 57. Southeast wind 9 to 14 mph becoming light and variable  in the afternoon.  Chance of precipitation is 80%. New precipitation amounts between a quarter and half of an inch possible. \n"
     ]
    }
   ],
   "source": [
    "#Now, we can extract the title attribute from the img tag\n",
    "\n",
    "img = tonight.find(\"img\")\n",
    "desc = img['title']\n",
    "print(desc)"
   ]
  },
  {
   "cell_type": "code",
   "execution_count": 15,
   "metadata": {},
   "outputs": [
    {
     "data": {
      "text/plain": [
       "['Today',\n",
       " 'Tonight',\n",
       " 'Friday',\n",
       " 'FridayNight',\n",
       " 'Saturday',\n",
       " 'SaturdayNight',\n",
       " \"NewYear'sDay\",\n",
       " 'SundayNight',\n",
       " 'Monday']"
      ]
     },
     "execution_count": 15,
     "metadata": {},
     "output_type": "execute_result"
    }
   ],
   "source": [
    "#Now we will extract each individual piece of information\n",
    "\n",
    "period_tags = seven_day.select(\".tombstone-container .period-name\") #Select all items with the class period-name inside an item with the class tombstone-container in seven_day.\n",
    "periods = [pt.get_text() for pt in period_tags] #Use a list comprehension to call the get_text method on each BeautifulSoup object.\n",
    "periods"
   ]
  },
  {
   "cell_type": "code",
   "execution_count": 16,
   "metadata": {},
   "outputs": [
    {
     "name": "stdout",
     "output_type": "stream",
     "text": [
      "['Rain', 'Rain', 'Rain', 'Rain', 'Rain andBreezy', 'Chance Rainthen MostlyClear', 'Sunny', 'Partly Cloudythen RainLikely', 'Rain']\n",
      "['High: 57 °F', 'Low: 54 °F', 'High: 60 °F', 'Low: 55 °F', 'High: 60 °F', 'Low: 47 °F', 'High: 58 °F', 'Low: 46 °F', 'High: 55 °F']\n",
      "['Today: Rain.  High near 57. Southeast wind 9 to 14 mph becoming light and variable  in the afternoon.  Chance of precipitation is 80%. New precipitation amounts between a quarter and half of an inch possible. ', 'Tonight: Rain.  Steady temperature around 54. South southeast wind 10 to 14 mph becoming west southwest in the evening.  Chance of precipitation is 100%. New precipitation amounts between a quarter and half of an inch possible. ', 'Friday: Rain.  High near 60. South southwest wind 5 to 14 mph, with gusts as high as 21 mph.  Chance of precipitation is 90%. New precipitation amounts between a quarter and half of an inch possible. ', 'Friday Night: Rain.  Low around 55. South southwest wind 15 to 17 mph, with gusts as high as 25 mph.  Chance of precipitation is 100%. New precipitation amounts between a half and three quarters of an inch possible. ', 'Saturday: Rain, mainly before 5pm.  High near 60. Breezy, with a south wind 18 to 23 mph becoming west in the afternoon. Winds could gust as high as 28 mph.  Chance of precipitation is 100%. New precipitation amounts between three quarters and one inch possible. ', 'Saturday Night: A 30 percent chance of rain before 11pm.  Partly cloudy, with a low around 47. New precipitation amounts of less than a tenth of an inch possible. ', \"New Year's Day: Sunny, with a high near 58.\", 'Sunday Night: Rain likely after 5am.  Mostly cloudy, with a low around 46.', 'Monday: Rain.  Cloudy, with a high near 55.']\n"
     ]
    }
   ],
   "source": [
    "#We can apply the same technique to get the other three fields:\n",
    "\n",
    "short_descs = [sd.get_text() for sd in seven_day.select(\".tombstone-container .short-desc\")]\n",
    "temps = [t.get_text() for t in seven_day.select(\".tombstone-container .temp\")]\n",
    "descs = [d[\"title\"] for d in seven_day.select(\".tombstone-container img\")]\n",
    "print(short_descs)\n",
    "print(temps)\n",
    "print(descs)"
   ]
  },
  {
   "cell_type": "code",
   "execution_count": 17,
   "metadata": {},
   "outputs": [
    {
     "data": {
      "text/html": [
       "<div>\n",
       "<style scoped>\n",
       "    .dataframe tbody tr th:only-of-type {\n",
       "        vertical-align: middle;\n",
       "    }\n",
       "\n",
       "    .dataframe tbody tr th {\n",
       "        vertical-align: top;\n",
       "    }\n",
       "\n",
       "    .dataframe thead th {\n",
       "        text-align: right;\n",
       "    }\n",
       "</style>\n",
       "<table border=\"1\" class=\"dataframe\">\n",
       "  <thead>\n",
       "    <tr style=\"text-align: right;\">\n",
       "      <th></th>\n",
       "      <th>period</th>\n",
       "      <th>short_desc</th>\n",
       "      <th>temp</th>\n",
       "      <th>desc</th>\n",
       "    </tr>\n",
       "  </thead>\n",
       "  <tbody>\n",
       "    <tr>\n",
       "      <th>0</th>\n",
       "      <td>Today</td>\n",
       "      <td>Rain</td>\n",
       "      <td>High: 57 °F</td>\n",
       "      <td>Today: Rain.  High near 57. Southeast wind 9 t...</td>\n",
       "    </tr>\n",
       "    <tr>\n",
       "      <th>1</th>\n",
       "      <td>Tonight</td>\n",
       "      <td>Rain</td>\n",
       "      <td>Low: 54 °F</td>\n",
       "      <td>Tonight: Rain.  Steady temperature around 54. ...</td>\n",
       "    </tr>\n",
       "    <tr>\n",
       "      <th>2</th>\n",
       "      <td>Friday</td>\n",
       "      <td>Rain</td>\n",
       "      <td>High: 60 °F</td>\n",
       "      <td>Friday: Rain.  High near 60. South southwest w...</td>\n",
       "    </tr>\n",
       "    <tr>\n",
       "      <th>3</th>\n",
       "      <td>FridayNight</td>\n",
       "      <td>Rain</td>\n",
       "      <td>Low: 55 °F</td>\n",
       "      <td>Friday Night: Rain.  Low around 55. South sout...</td>\n",
       "    </tr>\n",
       "    <tr>\n",
       "      <th>4</th>\n",
       "      <td>Saturday</td>\n",
       "      <td>Rain andBreezy</td>\n",
       "      <td>High: 60 °F</td>\n",
       "      <td>Saturday: Rain, mainly before 5pm.  High near ...</td>\n",
       "    </tr>\n",
       "    <tr>\n",
       "      <th>5</th>\n",
       "      <td>SaturdayNight</td>\n",
       "      <td>Chance Rainthen MostlyClear</td>\n",
       "      <td>Low: 47 °F</td>\n",
       "      <td>Saturday Night: A 30 percent chance of rain be...</td>\n",
       "    </tr>\n",
       "    <tr>\n",
       "      <th>6</th>\n",
       "      <td>NewYear'sDay</td>\n",
       "      <td>Sunny</td>\n",
       "      <td>High: 58 °F</td>\n",
       "      <td>New Year's Day: Sunny, with a high near 58.</td>\n",
       "    </tr>\n",
       "    <tr>\n",
       "      <th>7</th>\n",
       "      <td>SundayNight</td>\n",
       "      <td>Partly Cloudythen RainLikely</td>\n",
       "      <td>Low: 46 °F</td>\n",
       "      <td>Sunday Night: Rain likely after 5am.  Mostly c...</td>\n",
       "    </tr>\n",
       "    <tr>\n",
       "      <th>8</th>\n",
       "      <td>Monday</td>\n",
       "      <td>Rain</td>\n",
       "      <td>High: 55 °F</td>\n",
       "      <td>Monday: Rain.  Cloudy, with a high near 55.</td>\n",
       "    </tr>\n",
       "  </tbody>\n",
       "</table>\n",
       "</div>"
      ],
      "text/plain": [
       "          period                    short_desc         temp  \\\n",
       "0          Today                          Rain  High: 57 °F   \n",
       "1        Tonight                          Rain   Low: 54 °F   \n",
       "2         Friday                          Rain  High: 60 °F   \n",
       "3    FridayNight                          Rain   Low: 55 °F   \n",
       "4       Saturday                Rain andBreezy  High: 60 °F   \n",
       "5  SaturdayNight   Chance Rainthen MostlyClear   Low: 47 °F   \n",
       "6   NewYear'sDay                         Sunny  High: 58 °F   \n",
       "7    SundayNight  Partly Cloudythen RainLikely   Low: 46 °F   \n",
       "8         Monday                          Rain  High: 55 °F   \n",
       "\n",
       "                                                desc  \n",
       "0  Today: Rain.  High near 57. Southeast wind 9 t...  \n",
       "1  Tonight: Rain.  Steady temperature around 54. ...  \n",
       "2  Friday: Rain.  High near 60. South southwest w...  \n",
       "3  Friday Night: Rain.  Low around 55. South sout...  \n",
       "4  Saturday: Rain, mainly before 5pm.  High near ...  \n",
       "5  Saturday Night: A 30 percent chance of rain be...  \n",
       "6        New Year's Day: Sunny, with a high near 58.  \n",
       "7  Sunday Night: Rain likely after 5am.  Mostly c...  \n",
       "8        Monday: Rain.  Cloudy, with a high near 55.  "
      ]
     },
     "execution_count": 17,
     "metadata": {},
     "output_type": "execute_result"
    }
   ],
   "source": [
    "#We can now combine the data into a Pandas DataFrame and analyze it. \n",
    "\n",
    "import pandas as pd\n",
    "weather = pd.DataFrame({\n",
    "    \"period\": periods,\n",
    "    \"short_desc\": short_descs,\n",
    "    \"temp\": temps,\n",
    "    \"desc\":descs\n",
    "})\n",
    "weather"
   ]
  },
  {
   "cell_type": "code",
   "execution_count": 18,
   "metadata": {},
   "outputs": [
    {
     "data": {
      "text/html": [
       "<div>\n",
       "<style scoped>\n",
       "    .dataframe tbody tr th:only-of-type {\n",
       "        vertical-align: middle;\n",
       "    }\n",
       "\n",
       "    .dataframe tbody tr th {\n",
       "        vertical-align: top;\n",
       "    }\n",
       "\n",
       "    .dataframe thead th {\n",
       "        text-align: right;\n",
       "    }\n",
       "</style>\n",
       "<table border=\"1\" class=\"dataframe\">\n",
       "  <thead>\n",
       "    <tr style=\"text-align: right;\">\n",
       "      <th></th>\n",
       "      <th>0</th>\n",
       "    </tr>\n",
       "  </thead>\n",
       "  <tbody>\n",
       "    <tr>\n",
       "      <th>0</th>\n",
       "      <td>57</td>\n",
       "    </tr>\n",
       "    <tr>\n",
       "      <th>1</th>\n",
       "      <td>54</td>\n",
       "    </tr>\n",
       "    <tr>\n",
       "      <th>2</th>\n",
       "      <td>60</td>\n",
       "    </tr>\n",
       "    <tr>\n",
       "      <th>3</th>\n",
       "      <td>55</td>\n",
       "    </tr>\n",
       "    <tr>\n",
       "      <th>4</th>\n",
       "      <td>60</td>\n",
       "    </tr>\n",
       "    <tr>\n",
       "      <th>5</th>\n",
       "      <td>47</td>\n",
       "    </tr>\n",
       "    <tr>\n",
       "      <th>6</th>\n",
       "      <td>58</td>\n",
       "    </tr>\n",
       "    <tr>\n",
       "      <th>7</th>\n",
       "      <td>46</td>\n",
       "    </tr>\n",
       "    <tr>\n",
       "      <th>8</th>\n",
       "      <td>55</td>\n",
       "    </tr>\n",
       "  </tbody>\n",
       "</table>\n",
       "</div>"
      ],
      "text/plain": [
       "    0\n",
       "0  57\n",
       "1  54\n",
       "2  60\n",
       "3  55\n",
       "4  60\n",
       "5  47\n",
       "6  58\n",
       "7  46\n",
       "8  55"
      ]
     },
     "execution_count": 18,
     "metadata": {},
     "output_type": "execute_result"
    }
   ],
   "source": [
    "#We can now do some analysis on the data.\n",
    "#For example, we can use a regular expression and the Series.str.extract method to pull out the numeric temperature values:\n",
    "\n",
    "temp_nums = weather[\"temp\"].str.extract('(\\d+)', expand=True)\n",
    "weather[\"temp_num\"] = temp_nums.astype('int')\n",
    "temp_nums"
   ]
  },
  {
   "cell_type": "code",
   "execution_count": 19,
   "metadata": {},
   "outputs": [
    {
     "data": {
      "text/plain": [
       "54.666666666666664"
      ]
     },
     "execution_count": 19,
     "metadata": {},
     "output_type": "execute_result"
    }
   ],
   "source": [
    "#We could then find the mean of all the high and low temperatures:\n",
    "\n",
    "weather[\"temp_num\"].mean()"
   ]
  },
  {
   "cell_type": "code",
   "execution_count": 20,
   "metadata": {},
   "outputs": [
    {
     "data": {
      "text/plain": [
       "0    False\n",
       "1     True\n",
       "2    False\n",
       "3     True\n",
       "4    False\n",
       "5     True\n",
       "6    False\n",
       "7     True\n",
       "8    False\n",
       "Name: temp, dtype: bool"
      ]
     },
     "execution_count": 20,
     "metadata": {},
     "output_type": "execute_result"
    }
   ],
   "source": [
    "#We could also only select the rows that happen at night:\n",
    "\n",
    "is_night = weather[\"temp\"].str.contains(\"Low\")\n",
    "weather[\"is_night\"] = is_night\n",
    "is_night"
   ]
  },
  {
   "cell_type": "code",
   "execution_count": 21,
   "metadata": {},
   "outputs": [
    {
     "data": {
      "text/html": [
       "<div>\n",
       "<style scoped>\n",
       "    .dataframe tbody tr th:only-of-type {\n",
       "        vertical-align: middle;\n",
       "    }\n",
       "\n",
       "    .dataframe tbody tr th {\n",
       "        vertical-align: top;\n",
       "    }\n",
       "\n",
       "    .dataframe thead th {\n",
       "        text-align: right;\n",
       "    }\n",
       "</style>\n",
       "<table border=\"1\" class=\"dataframe\">\n",
       "  <thead>\n",
       "    <tr style=\"text-align: right;\">\n",
       "      <th></th>\n",
       "      <th>period</th>\n",
       "      <th>short_desc</th>\n",
       "      <th>temp</th>\n",
       "      <th>desc</th>\n",
       "      <th>temp_num</th>\n",
       "      <th>is_night</th>\n",
       "    </tr>\n",
       "  </thead>\n",
       "  <tbody>\n",
       "    <tr>\n",
       "      <th>1</th>\n",
       "      <td>Tonight</td>\n",
       "      <td>Rain</td>\n",
       "      <td>Low: 54 °F</td>\n",
       "      <td>Tonight: Rain.  Steady temperature around 54. ...</td>\n",
       "      <td>54</td>\n",
       "      <td>True</td>\n",
       "    </tr>\n",
       "    <tr>\n",
       "      <th>3</th>\n",
       "      <td>FridayNight</td>\n",
       "      <td>Rain</td>\n",
       "      <td>Low: 55 °F</td>\n",
       "      <td>Friday Night: Rain.  Low around 55. South sout...</td>\n",
       "      <td>55</td>\n",
       "      <td>True</td>\n",
       "    </tr>\n",
       "    <tr>\n",
       "      <th>5</th>\n",
       "      <td>SaturdayNight</td>\n",
       "      <td>Chance Rainthen MostlyClear</td>\n",
       "      <td>Low: 47 °F</td>\n",
       "      <td>Saturday Night: A 30 percent chance of rain be...</td>\n",
       "      <td>47</td>\n",
       "      <td>True</td>\n",
       "    </tr>\n",
       "    <tr>\n",
       "      <th>7</th>\n",
       "      <td>SundayNight</td>\n",
       "      <td>Partly Cloudythen RainLikely</td>\n",
       "      <td>Low: 46 °F</td>\n",
       "      <td>Sunday Night: Rain likely after 5am.  Mostly c...</td>\n",
       "      <td>46</td>\n",
       "      <td>True</td>\n",
       "    </tr>\n",
       "  </tbody>\n",
       "</table>\n",
       "</div>"
      ],
      "text/plain": [
       "          period                    short_desc        temp  \\\n",
       "1        Tonight                          Rain  Low: 54 °F   \n",
       "3    FridayNight                          Rain  Low: 55 °F   \n",
       "5  SaturdayNight   Chance Rainthen MostlyClear  Low: 47 °F   \n",
       "7    SundayNight  Partly Cloudythen RainLikely  Low: 46 °F   \n",
       "\n",
       "                                                desc  temp_num  is_night  \n",
       "1  Tonight: Rain.  Steady temperature around 54. ...        54      True  \n",
       "3  Friday Night: Rain.  Low around 55. South sout...        55      True  \n",
       "5  Saturday Night: A 30 percent chance of rain be...        47      True  \n",
       "7  Sunday Night: Rain likely after 5am.  Mostly c...        46      True  "
      ]
     },
     "execution_count": 21,
     "metadata": {},
     "output_type": "execute_result"
    }
   ],
   "source": [
    "weather[is_night]"
   ]
  },
  {
   "cell_type": "code",
   "execution_count": null,
   "metadata": {},
   "outputs": [],
   "source": []
  }
 ],
 "metadata": {
  "kernelspec": {
   "display_name": "Python 3 (ipykernel)",
   "language": "python",
   "name": "python3"
  },
  "language_info": {
   "codemirror_mode": {
    "name": "ipython",
    "version": 3
   },
   "file_extension": ".py",
   "mimetype": "text/x-python",
   "name": "python",
   "nbconvert_exporter": "python",
   "pygments_lexer": "ipython3",
   "version": "3.9.13"
  }
 },
 "nbformat": 4,
 "nbformat_minor": 4
}
